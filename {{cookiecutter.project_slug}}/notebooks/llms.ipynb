{
 "cells": [
  {
   "cell_type": "markdown",
   "source": [
    "# LLMs notebook\n",
    "\n",
    "UI for controlling LLM apps and patterns"
   ],
   "metadata": {
    "collapsed": false
   }
  },
  {
   "cell_type": "code",
   "metadata": {
    "ExecuteTime": {
     "end_time": "2024-06-19T18:00:58.585676Z",
     "start_time": "2024-06-19T18:00:57.602346Z"
    }
   },
   "source": [
    "import os\n",
    "import sys\n",
    "\n",
    "# Set context to project top directory\n",
    "parent_dir = os.getcwd()\n",
    "while not os.path.isfile(os.path.join(parent_dir, 'config.py')):\n",
    "    parent_dir = os.path.dirname(parent_dir)\n",
    "sys.path.append(parent_dir)\n",
    "# Get global configs\n",
    "from config import Config\n",
    "\n",
    "from IPython.display import display\n",
    "import ipywidgets as widgets\n",
    "from core.adapters.llms.agent import AgentManager"
   ],
   "outputs": [
    {
     "name": "stdout",
     "output_type": "stream",
     "text": [
      "SERVER_DICT {'HOST': '0.0.0.0', 'PORT': '5000', 'SERVER_NAME': None, 'SERVER_URL': 'https://0.0.0.0:5000', 'CLIENT_HOST': '0.0.0.0', 'CLIENT_PORT': '3000', 'CLIENT_SERVER_URL': 'https://0.0.0.0:3000', 'STAGING_URL': None, 'PROD_URL': None, 'ENV': 'testing', 'DEBUG_MODE': True, 'DEBUG': True, 'TESTING': True, 'DEVELOPMENT': True}\n"
     ]
    }
   ],
   "execution_count": 1
  },
  {
   "metadata": {},
   "cell_type": "code",
   "outputs": [],
   "execution_count": null,
   "source": [
    "# Agent controller for code optimization\n",
    "\n",
    "model_name_default = 'openaiagent//gpt-4o'\n",
    "am = AgentManager(model_names=model_name_default)\n",
    "\n",
    "prompt = NewsAttributesPrompt(target_str=article)\n",
    "rendered_prompt_question = prompt.render_query()\n",
    "answers = am.get_answers(prompts=rendered_prompt_question, num_threads=5, model_names=model_name_default)"
   ]
  },
  {
   "cell_type": "code",
   "metadata": {
    "ExecuteTime": {
     "end_time": "2024-06-19T18:00:59.997475Z",
     "start_time": "2024-06-19T18:00:59.936474Z"
    }
   },
   "source": [
    "# Widget UI\n",
    "\n",
    "model_name = widgets.Select(\n",
    "    options=['anyscaleagent//mistralai/Mistral-7B-Instruct-v0.1', \n",
    "             'openaiagent//gpt-4-turbo-preview'],\n",
    "    value='anyscaleagent//mistralai/Mistral-7B-Instruct-v0.1',\n",
    "    # rows=10,\n",
    "    description='model:',\n",
    "    disabled=False\n",
    ")\n",
    "strategy_name = widgets.Select(\n",
    "    options=['code optimization', \n",
    "             'unit tests', \n",
    "             'integration tests'],\n",
    "    value='code optimization',\n",
    "    # rows=10,\n",
    "    description='strategy:',\n",
    "    disabled=False\n",
    ")\n",
    "fb_label = widgets.HTML(\n",
    "    value=\"Upload code to analyze:\",\n",
    "    placeholder='',\n",
    "    description='',\n",
    ")\n",
    "filebox = widgets.FileUpload(\n",
    "    accept='',  # Accepted file extension e.g. '.txt', '.pdf', 'image/*', 'image/*,.pdf'\n",
    "    multiple=False  # True to accept multiple files upload else False\n",
    ")\n",
    "improvement_choices = widgets.Text(\n",
    "    value='1, 2, 3',\n",
    "    placeholder='Choose the features to implement',\n",
    "    description='Choices:',\n",
    "    disabled=True\n",
    ")\n",
    "hbox = widgets.HBox([model_name, strategy_name])\n",
    "display(hbox)\n",
    "file_h_box = widgets.HBox([fb_label, filebox])\n",
    "display(file_h_box)\n",
    "analyze_button = widgets.Button(description=\"analyze\")\n",
    "optimize_button = widgets.Button(description=\"optimize\", disabled=True)\n",
    "choices_output = widgets.Output()\n",
    "with choices_output:\n",
    "    print('')\n",
    "optimized_output = widgets.Output()\n",
    "\n",
    "display(analyze_button)\n",
    "display(choices_output)\n",
    "\n",
    "def on_analyze_button_clicked(b):\n",
    "    with choices_output:\n",
    "        print(\"Button clicked.\")\n",
    "        improvement_choices.disabled = False\n",
    "        optimize_button.disabled = False\n",
    "\n",
    "def on_optimize_button_clicked(b):\n",
    "    with optimized_output:\n",
    "        print(\"Button clicked.\")\n",
    "\n",
    "analyze_button.on_click(on_analyze_button_clicked)\n",
    "optimize_button.on_click(on_optimize_button_clicked)\n",
    "# Make selections from feedback\n",
    "display(improvement_choices)\n",
    "display(optimize_button)\n",
    "display(optimized_output)"
   ],
   "outputs": [
    {
     "data": {
      "text/plain": [
       "HBox(children=(Select(description='model:', options=('anyscaleagent//mistralai/Mistral-7B-Instruct-v0.1', 'ope…"
      ],
      "application/vnd.jupyter.widget-view+json": {
       "version_major": 2,
       "version_minor": 0,
       "model_id": "7e1e69cab28c4b509c1233e6f6ab002d"
      }
     },
     "metadata": {},
     "output_type": "display_data"
    },
    {
     "data": {
      "text/plain": [
       "HBox(children=(HTML(value='Upload code to analyze:', placeholder=''), FileUpload(value=(), description='Upload…"
      ],
      "application/vnd.jupyter.widget-view+json": {
       "version_major": 2,
       "version_minor": 0,
       "model_id": "029bef43044d469383827791a2b9ba9d"
      }
     },
     "metadata": {},
     "output_type": "display_data"
    },
    {
     "data": {
      "text/plain": [
       "Button(description='analyze', style=ButtonStyle())"
      ],
      "application/vnd.jupyter.widget-view+json": {
       "version_major": 2,
       "version_minor": 0,
       "model_id": "5bd9204f53a04d29add071a810353d58"
      }
     },
     "metadata": {},
     "output_type": "display_data"
    },
    {
     "data": {
      "text/plain": [
       "Output()"
      ],
      "application/vnd.jupyter.widget-view+json": {
       "version_major": 2,
       "version_minor": 0,
       "model_id": "8229377265194ed08dd83271ffcd533c"
      }
     },
     "metadata": {},
     "output_type": "display_data"
    },
    {
     "data": {
      "text/plain": [
       "Text(value='1, 2, 3', description='Choices:', disabled=True, placeholder='Choose the features to implement')"
      ],
      "application/vnd.jupyter.widget-view+json": {
       "version_major": 2,
       "version_minor": 0,
       "model_id": "b7df727a3cb74f77bc4d7a6147f1040b"
      }
     },
     "metadata": {},
     "output_type": "display_data"
    },
    {
     "data": {
      "text/plain": [
       "Button(description='optimize', disabled=True, style=ButtonStyle())"
      ],
      "application/vnd.jupyter.widget-view+json": {
       "version_major": 2,
       "version_minor": 0,
       "model_id": "a341ae33501f485fb36308c50a8b47a6"
      }
     },
     "metadata": {},
     "output_type": "display_data"
    },
    {
     "data": {
      "text/plain": [
       "Output()"
      ],
      "application/vnd.jupyter.widget-view+json": {
       "version_major": 2,
       "version_minor": 0,
       "model_id": "518df34a5b3e491b87f48bbf10e13fac"
      }
     },
     "metadata": {},
     "output_type": "display_data"
    }
   ],
   "execution_count": 2
  },
  {
   "metadata": {},
   "cell_type": "code",
   "source": "filebox.value",
   "outputs": [],
   "execution_count": null
  },
  {
   "metadata": {},
   "cell_type": "code",
   "source": "",
   "outputs": [],
   "execution_count": null
  },
  {
   "metadata": {},
   "cell_type": "code",
   "source": "",
   "outputs": [],
   "execution_count": null
  }
 ],
 "metadata": {
  "kernelspec": {
   "display_name": "Python 3",
   "language": "python",
   "name": "python3"
  },
  "language_info": {
   "codemirror_mode": {
    "name": "ipython",
    "version": 3
   },
   "file_extension": ".py",
   "mimetype": "text/x-python",
   "name": "python",
   "nbconvert_exporter": "python",
   "pygments_lexer": "ipython3",
   "version": "3.6.5"
  }
 },
 "nbformat": 4,
 "nbformat_minor": 2
}
